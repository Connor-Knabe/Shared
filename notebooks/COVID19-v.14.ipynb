{
 "cells": [
  {
   "cell_type": "markdown",
   "metadata": {},
   "source": [
    "# COVID-19 Indicator feed notebook\n",
    "\n",
    "Author: @JohnLaTwC\n",
    "\n",
    "This notebook uses the COVID-19 threat indicator feed from Microsoft. It emits a Yara rule that matches on the COVID-19 indicator feed from Microsoft. It uses the VT API to add this rule to your hunting rulesets. \n",
    "\n",
    "It also can search VirusTotal to find matches.\n",
    "\n",
    "References:\n",
    "* https://www.microsoft.com/security/blog/2020/05/14/open-sourcing-covid-threat-intelligence/\n",
    "* https://aka.ms/msft-covid19-Indicators"
   ]
  },
  {
   "cell_type": "code",
   "execution_count": null,
   "metadata": {},
   "outputs": [],
   "source": [
    "!!pip install pandas\n",
    "!!pip install vt-py\n",
    "!!pip install nest_asyncio"
   ]
  },
  {
   "cell_type": "code",
   "execution_count": null,
   "metadata": {},
   "outputs": [],
   "source": [
    "# if you want to query VT, define your API KEY\n",
    "VT_APIKEY = \"<DEFINE APIKEY HERE>\""
   ]
  },
  {
   "cell_type": "code",
   "execution_count": null,
   "metadata": {},
   "outputs": [],
   "source": [
    "from IPython.core.display import display, HTML\n",
    "display(HTML(\"<style>.container { width:90% !important; }</style>\")) "
   ]
  },
  {
   "cell_type": "code",
   "execution_count": null,
   "metadata": {},
   "outputs": [],
   "source": [
    "feedurl = 'https://raw.githubusercontent.com/Azure/Azure-Sentinel/master/Sample%20Data/Feeds/Microsoft.Covid19.Indicators.csv'"
   ]
  },
  {
   "cell_type": "code",
   "execution_count": null,
   "metadata": {},
   "outputs": [],
   "source": [
    "def get_feed(url):\n",
    "    import requests\n",
    "    import pandas as pd\n",
    "    from io import StringIO\n",
    "    results = None\n",
    "    r = requests.get(url)\n",
    "    if r.status_code==404:\n",
    "        print('feed does not exist')\n",
    "    else:\n",
    "        csv = StringIO(r.content.decode())\n",
    "        results = pd.read_csv(csv, sep=',', names=[\"Timestamp\", \"sha256\", \"IndicatorType\", \"TLP\", \"Product\", \"ThreatType\", \"Description\"])\n",
    "    return results"
   ]
  },
  {
   "cell_type": "markdown",
   "metadata": {},
   "source": [
    "## Fetch the indicators and list some of them"
   ]
  },
  {
   "cell_type": "code",
   "execution_count": null,
   "metadata": {},
   "outputs": [],
   "source": [
    "import pandas as pd\n",
    "\n",
    "df = get_feed(feedurl)\n",
    "i = 5\n",
    "print(f\"Feed contains {len(df)} indicators. Listing {i} example indicators:\")\n",
    "\n",
    "df['Timestamp'] = pd.to_datetime(df['Timestamp'])\n",
    "df.sort_values(by='Timestamp', ascending=True).tail(i)"
   ]
  },
  {
   "cell_type": "markdown",
   "metadata": {},
   "source": [
    "## Search VirusTotal for any matching indicators (requires API key)"
   ]
  },
  {
   "cell_type": "code",
   "execution_count": null,
   "metadata": {},
   "outputs": [],
   "source": [
    "import vt \n",
    "import nest_asyncio\n",
    "nest_asyncio.apply()\n",
    "def get_vt_search_results(api_key, query):\n",
    "    with vt.Client(api_key) as client:\n",
    "        lst = []\n",
    "        obj = client.get_json('/intelligence/search',\n",
    "                             params = {'query':query, 'descriptors_only':'true'})\n",
    "        if len(obj['data']) == 0:\n",
    "            return lst\n",
    "        for item in obj['data']:\n",
    "            lst.append(item['id'])\n",
    "        return lst\n",
    "\n",
    "def query_for_indicators(lst):\n",
    "    #chunk up the API requests to VT\n",
    "    BATCH_SIZE = 40\n",
    "    partitions = int(len(lst) / BATCH_SIZE)\n",
    "    subs = [lst[i::partitions] for i in range(partitions)] \n",
    "    r = []\n",
    "    for sub in subs:\n",
    "        r = r + get_vt_search_results(VT_APIKEY, '\\n'.join(sub))\n",
    "    return r"
   ]
  },
  {
   "cell_type": "code",
   "execution_count": null,
   "metadata": {
    "scrolled": false
   },
   "outputs": [],
   "source": [
    "lst = df['sha256'].tolist()\n",
    "matches = query_for_indicators(lst)\n",
    "print(len(matches))"
   ]
  },
  {
   "cell_type": "code",
   "execution_count": null,
   "metadata": {},
   "outputs": [],
   "source": [
    "matches"
   ]
  },
  {
   "cell_type": "markdown",
   "metadata": {},
   "source": [
    "# Create a Yara rule for indicators"
   ]
  },
  {
   "cell_type": "code",
   "execution_count": null,
   "metadata": {},
   "outputs": [],
   "source": [
    "def create_rule(hsh):\n",
    "    return f'hash.sha256(0, filesize) == \"{hsh}\"\\n'\n",
    "\n",
    "def print_vt_rule(df, feedurl):\n",
    "    import datetime \n",
    "    timestamp = datetime.datetime.now()\n",
    "\n",
    "    x = map(create_rule, df['sha256'].tolist())\n",
    "    formatted_lst = '            or '.join(list(x))\n",
    "    s = f'''\n",
    "import \"hash\"\n",
    "rule covid19_indicator_match\n",
    "{{\n",
    "    meta:\n",
    "        feed = \"{feedurl}\"\n",
    "        created_on = \"{timestamp}\"\n",
    "        total_indicators = {len(df)}\n",
    "    condition:\n",
    "        filesize < 1MB and\n",
    "        (\n",
    "            {formatted_lst}\n",
    "        )\n",
    "}}\n",
    "\n",
    "    ''' \n",
    "    return s\n",
    "\n",
    "vt_covid_rule = print_vt_rule(df, feedurl)\n",
    "print(vt_covid_rule)"
   ]
  },
  {
   "cell_type": "markdown",
   "metadata": {},
   "source": [
    "# Save COVID to your VirusTotal account\n",
    "API: https://github.com/VirusTotal/vt-py/\n",
    "\n",
    "Docs: https://virustotal.github.io/vt-py/"
   ]
  },
  {
   "cell_type": "code",
   "execution_count": null,
   "metadata": {},
   "outputs": [],
   "source": [
    "import vt \n",
    "import nest_asyncio\n",
    "nest_asyncio.apply()\n",
    "\n",
    "RULE_NAME = 'MSCOVID19_FEED'\n",
    "\n",
    "def get_ruleset_id(api_key, rule_name):\n",
    "    with vt.Client(api_key) as client:\n",
    "        obj = client.get_json('/intelligence/hunting_rulesets',\n",
    "                             params = {'filter':'enabled:true name:%s ' % rule_name, 'limit':1})\n",
    "        if len(obj['data']) == 0:\n",
    "            return -1\n",
    "        return obj['data'][0]['id']\n",
    "    \n",
    "      \n",
    "def create_update_rule(api_key, rule_name, vt_covid_rule):\n",
    "    with vt.Client(api_key) as client:\n",
    "        \n",
    "        id = get_ruleset_id(api_key, rule_name)\n",
    "\n",
    "        rs = vt.Object(\"hunting_ruleset\")\n",
    "        rs.name = rule_name\n",
    "        rs.enabled = True\n",
    "        rs.rules = vt_covid_rule\n",
    "        res = None\n",
    "        if id == -1:\n",
    "            res = client.post_object(\"/intelligence/hunting_rulesets\", obj=rs)\n",
    "        else:\n",
    "            res = client.patch_object(\"/intelligence/hunting_rulesets/%s\" % id, obj=rs)\n",
    "        if 'id' in res.to_dict():\n",
    "            print(\"Success.\")\n",
    "        else:\n",
    "            print(\"Failed.\")"
   ]
  },
  {
   "cell_type": "code",
   "execution_count": null,
   "metadata": {},
   "outputs": [],
   "source": [
    "create_update_rule(VT_APIKEY, RULE_NAME, vt_covid_rule)"
   ]
  }
 ],
 "metadata": {
  "kernelspec": {
   "display_name": "Python 3",
   "language": "python",
   "name": "python3"
  },
  "language_info": {
   "codemirror_mode": {
    "name": "ipython",
    "version": 3
   },
   "file_extension": ".py",
   "mimetype": "text/x-python",
   "name": "python",
   "nbconvert_exporter": "python",
   "pygments_lexer": "ipython3",
   "version": "3.7.3"
  }
 },
 "nbformat": 4,
 "nbformat_minor": 2
}
