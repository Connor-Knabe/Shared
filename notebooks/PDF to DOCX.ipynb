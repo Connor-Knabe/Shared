{
 "cells": [
  {
   "cell_type": "markdown",
   "metadata": {},
   "source": [
    "# PDF to DOCX Converter\n",
    "\n",
    "## This script converts a PDF into a DOCX. Each page of the PDF is rendered to a JPG and then inserted into a new Word document.\n",
    "\n",
    "Libraries used:\n",
    "- python-docx [https://pypi.org/project/python-docx/]\n",
    "- PyPDF2 [https://pypi.org/project/PyPDF2/]\n",
    "- pdf2image [https://pypi.org/project/pdf2image/]\n",
    "\n",
    "Binaries required:\n",
    "- install Poppler:  https://github.com/oschwartz10612/poppler-windows/releases/ and make sure it's in the PATH\n",
    "- or install via conda install -c conda-forge poppler "
   ]
  },
  {
   "cell_type": "code",
   "execution_count": null,
   "metadata": {},
   "outputs": [],
   "source": [
    "!!pip install python-docx\n",
    "!!pip install PyPDF2\n",
    "!!pip install pdf2image\n",
    "# Download and install Poppler (PDF tools) https://github.com/oschwartz10612/poppler-windows/releases/\n",
    "# or install via conda\n",
    "!!conda install -c conda-forge poppler"
   ]
  },
  {
   "cell_type": "code",
   "execution_count": null,
   "metadata": {},
   "outputs": [],
   "source": [
    "def pdf2jpeg_poppler(pdf_input_path, dpi=200):\n",
    "    from pdf2image import convert_from_path\n",
    "    import os\n",
    "    import tempfile\n",
    "\n",
    "    num_pages = get_PDF_pagecount(pdf_input_path)\n",
    "    print(\"PDF has %d pages\" % num_pages)\n",
    "        \n",
    "    temp_fn_lst = []\n",
    "    fname_jpg_pattern = 'tmp_pdf_to_jpg_page_%d.jpg'\n",
    "    i = 0\n",
    "        \n",
    "    pages = convert_from_path(pdf_input_path)\n",
    "    \n",
    "    for page in pages:\n",
    "        i = i + 1\n",
    "        path = os.path.join(tempfile.gettempdir(),  fname_jpg_pattern % i)\n",
    "        temp_fn_lst.append(path)\n",
    "        page.save(path, 'JPEG')\n",
    "        print(\"Saved screenshot of page %d to tempfile %s\" % (i, path))\n",
    "        \n",
    "    return temp_fn_lst\n",
    "\n",
    "def is_pdf_landscape(input_pdf_fname):\n",
    "    from PyPDF2 import PdfFileReader\n",
    "    with open(input_pdf_fname,'rb') as f:\n",
    "        pdf = PdfFileReader(f)\n",
    "        \n",
    "        page = pdf.getPage(0).mediaBox\n",
    "\n",
    "        if page.getUpperRight_x() - page.getUpperLeft_x() > page.getUpperRight_y() - page.getLowerRight_y():\n",
    "            return True\n",
    "    return False\n",
    "    \n",
    "def get_PDF_pagecount(input_pdf_fname):\n",
    "    from PyPDF2 import PdfFileReader\n",
    "    with open(input_pdf_fname,'rb') as f:\n",
    "        pdf = PdfFileReader(f)\n",
    "        \n",
    "        return pdf.getNumPages()\n",
    "    return -1\n",
    "\n",
    "def create_docx_from_jpgs(fn_lst, output_docx_fname, fLandscapeMode = False):\n",
    "    from docx import Document\n",
    "    from docx.shared import Inches\n",
    "    from docx.enum.section import WD_ORIENT\n",
    "    \n",
    "    try:\n",
    "        document = Document()\n",
    "\n",
    "        sections = document.sections\n",
    "        margin = 0.5\n",
    "        for section in sections:\n",
    "            if fLandscapeMode:\n",
    "                print('Formatting landscape orientation')\n",
    "                section.orientation = WD_ORIENT.LANDSCAPE\n",
    "                new_width, new_height = section.page_height, section.page_width\n",
    "                section.page_width = new_width\n",
    "                section.page_height = new_height                \n",
    "                \n",
    "            section.top_margin = Inches(margin)\n",
    "            section.bottom_margin = Inches(margin)\n",
    "            section.left_margin = Inches(margin)\n",
    "            section.right_margin = Inches(margin)\n",
    "\n",
    "        for jpg_fname in fn_lst:\n",
    "            if fLandscapeMode:\n",
    "                document.add_picture(jpg_fname, width=Inches(10))\n",
    "            else:\n",
    "                document.add_picture(jpg_fname, width=Inches(7.5))\n",
    "            document.save(output_docx_fname)\n",
    "        print(\"DOCX saved to: %s\" % output_docx_fname)\n",
    "    except Error as e:\n",
    "        if document is not None:\n",
    "            document.save()\n",
    "\n",
    "def convert_pdf_to_DOCX(input_pdf_fname, output_docx_fname):\n",
    "    import os\n",
    "    temp_fn_lst = pdf2jpeg_poppler (input_pdf_fname)\n",
    "    \n",
    "    fLandscapeMode = is_pdf_landscape (input_pdf_fname)\n",
    "   \n",
    "    create_docx_from_jpgs(temp_fn_lst, output_docx_fname, fLandscapeMode)\n",
    "\n",
    "    # cleanup screenshots\n",
    "    for fname in temp_fn_lst:\n",
    "        os.remove(fname)\n",
    "        "
   ]
  },
  {
   "cell_type": "markdown",
   "metadata": {},
   "source": [
    "##  Create download link for converted DOCX"
   ]
  },
  {
   "cell_type": "code",
   "execution_count": 3,
   "metadata": {},
   "outputs": [
    {
     "data": {
      "application/vnd.jupyter.widget-view+json": {
       "model_id": "f3bf1d8026b642eba85755b1d6caf975",
       "version_major": 2,
       "version_minor": 0
      },
      "text/plain": [
       "Text(value='http://www.grancorporation.com/Ellipse_Perimeter_Rev-.pdf', description='URL to PDF', layout=Layou…"
      ]
     },
     "metadata": {},
     "output_type": "display_data"
    },
    {
     "data": {
      "application/vnd.jupyter.widget-view+json": {
       "model_id": "78e8f800109740689ac8f38774995e58",
       "version_major": 2,
       "version_minor": 0
      },
      "text/plain": [
       "Button(description='Convert', style=ButtonStyle())"
      ]
     },
     "metadata": {},
     "output_type": "display_data"
    }
   ],
   "source": [
    "from IPython.display import display, Markdown, clear_output\n",
    "\n",
    "import ipywidgets as widgets\n",
    "from ipywidgets import Layout\n",
    "# defining some widgets\n",
    "\n",
    "layout = widgets.Layout(width='auto', height='40px') #set width and height\n",
    "text_box = widgets.Text(\n",
    "       value='http://www.grancorporation.com/Ellipse_Perimeter_Rev-.pdf',\n",
    "       description='URL to PDF', display='flex', layout=layout)\n",
    "\n",
    "def download_link(file_name):\n",
    "    \"\"\"Display a download link to a file within a Jupyter notebook\"\"\"\n",
    "    from IPython.display import FileLink\n",
    "    display(FileLink(file_name))\n",
    "    \n",
    "def clicked(arg):\n",
    "    from urllib.parse import urlparse\n",
    "    import os \n",
    "    import urllib.request\n",
    "    url_to_pdf = text_box.value\n",
    "\n",
    "    o = urlparse(url_to_pdf)\n",
    "    output_docx_fname = os.path.basename(o.path.replace(\".pdf\", \".docx\"))  # you can override this\n",
    "\n",
    "    if '.docx' not in output_docx_fname:\n",
    "        output_docx_fname = output_docx_fname + '.docx'\n",
    "\n",
    "    # download PDF and convert it\n",
    "    input_pdf_fname = 'local-download-pdf.pdf'\n",
    "\n",
    "    urllib.request.urlretrieve(url_to_pdf, input_pdf_fname)\n",
    "\n",
    "    convert_pdf_to_DOCX(input_pdf_fname, output_docx_fname)\n",
    "    print('Download link below')\n",
    "    download_link(output_docx_fname)\n",
    "\n",
    "button_convert = widgets.Button(description = 'Convert')   \n",
    "button_convert.on_click(clicked)\n",
    "display(text_box)\n",
    "display(button_convert)"
   ]
  }
 ],
 "metadata": {
  "kernelspec": {
   "display_name": "Python 3",
   "language": "python",
   "name": "python3"
  },
  "language_info": {
   "codemirror_mode": {
    "name": "ipython",
    "version": 3
   },
   "file_extension": ".py",
   "mimetype": "text/x-python",
   "name": "python",
   "nbconvert_exporter": "python",
   "pygments_lexer": "ipython3",
   "version": "3.7.3"
  }
 },
 "nbformat": 4,
 "nbformat_minor": 4
}
