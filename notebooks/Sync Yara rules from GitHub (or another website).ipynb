{
 "cells": [
  {
   "cell_type": "markdown",
   "metadata": {},
   "source": [
    "# Sync rules on GitHub with VT\n",
    "\n",
    "Author: @JohnLaTwC\n",
    "\n",
    "This notebook uses the VT API to synchronize a set of Yara rules on github (or another website) with your VT hunting rules.\n",
    "\n",
    "API: https://github.com/VirusTotal/vt-py/\n",
    "\n",
    "Docs: https://virustotal.github.io/vt-py/"
   ]
  },
  {
   "cell_type": "code",
   "execution_count": null,
   "metadata": {},
   "outputs": [],
   "source": [
    "!!pip install vt-py\n",
    "!!pip install nest_asyncio"
   ]
  },
  {
   "cell_type": "code",
   "execution_count": null,
   "metadata": {},
   "outputs": [],
   "source": [
    "import vt \n",
    "import nest_asyncio\n",
    "nest_asyncio.apply()\n",
    "\n",
    "def get_rules(url):\n",
    "    import requests\n",
    "    rules = None\n",
    "    r = requests.get(url)\n",
    "    if r.status_code==404:\n",
    "        print('rules do not exist')\n",
    "    else:\n",
    "        rules = r.content.decode()\n",
    "    return rules\n",
    "\n",
    "def get_ruleset_id(api_key, rule_name):\n",
    "    with vt.Client(api_key) as client:\n",
    "        obj = client.get_json('/intelligence/hunting_rulesets',\n",
    "                             params = {'filter':'enabled:true name:%s ' % rule_name, 'limit':1})\n",
    "        if len(obj['data']) == 0:\n",
    "            return -1\n",
    "        return obj['data'][0]['id']\n",
    "      \n",
    "def create_update_rule(api_key, rule_name, rule_contents):\n",
    "    with vt.Client(api_key) as client:\n",
    "        \n",
    "        id = get_ruleset_id(api_key, rule_name)\n",
    "\n",
    "        rs = vt.Object(\"hunting_ruleset\")\n",
    "        rs.name = rule_name\n",
    "        rs.enabled = True\n",
    "        rs.rules = rule_contents\n",
    "        res = None\n",
    "        if id == -1:\n",
    "            res = client.post_object(\"/intelligence/hunting_rulesets\", obj=rs)\n",
    "        else:\n",
    "            res = client.patch_object(\"/intelligence/hunting_rulesets/%s\" % id, obj=rs)\n",
    "        if 'id' in res.to_dict():\n",
    "            print(\"Success.\")\n",
    "        else:\n",
    "            print(\"Failed.\")"
   ]
  },
  {
   "cell_type": "code",
   "execution_count": null,
   "metadata": {},
   "outputs": [],
   "source": [
    "github_url = 'https://raw.githubusercontent.com/JohnLaTwC/Shared/master/Yara/TemplateRules.yara'\n",
    "#github_url = 'https://raw.githubusercontent.com/Neo23x0/signature-base/master/yara/apt_lazarus_aug20.yar'\n",
    "\n",
    "#VT_APIKEY = \"...\"\n",
    "\n",
    "from urllib.parse import urlparse\n",
    "rule_name = 'imported_rules_' + urlparse(github_url).path.split('/')[-1].split('.yar')[0] # generate name from URL\n",
    "\n",
    "create_update_rule(VT_APIKEY, rule_name, get_rules(github_url))"
   ]
  }
 ],
 "metadata": {
  "kernelspec": {
   "display_name": "Python 3",
   "language": "python",
   "name": "python3"
  },
  "language_info": {
   "codemirror_mode": {
    "name": "ipython",
    "version": 3
   },
   "file_extension": ".py",
   "mimetype": "text/x-python",
   "name": "python",
   "nbconvert_exporter": "python",
   "pygments_lexer": "ipython3",
   "version": "3.7.3"
  }
 },
 "nbformat": 4,
 "nbformat_minor": 4
}
